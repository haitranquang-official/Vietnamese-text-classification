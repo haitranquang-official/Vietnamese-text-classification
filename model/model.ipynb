{
 "cells": [
  {
   "cell_type": "markdown",
   "metadata": {},
   "source": [
    "## IMPORT LIBRARIES"
   ]
  },
  {
   "cell_type": "code",
   "execution_count": 171,
   "metadata": {},
   "outputs": [],
   "source": [
    "import pandas as pd\n",
    "import numpy as np\n",
    "import json\n",
    "from sklearn.utils import shuffle\n",
    "import re\n",
    "import nltk\n",
    "from sklearn.linear_model import LogisticRegression\n",
    "from sklearn.metrics import confusion_matrix\n",
    "from sklearn.feature_extraction.text import CountVectorizer\n",
    "from sklearn.naive_bayes import BernoulliNB\n",
    "from sklearn.metrics import accuracy_score\n",
    "from sklearn.svm import NuSVC\n",
    "from sklearn.preprocessing import MinMaxScaler\n",
    "from sklearn.model_selection import train_test_split\n",
    "from sklearn.metrics import classification_report\n",
    "from sklearn.naive_bayes import GaussianNB\n",
    "import seaborn as sns\n",
    "import matplotlib.pyplot as plt\n"
   ]
  },
  {
   "cell_type": "markdown",
   "metadata": {},
   "source": [
    "### OPENING DATASET AND LOAD TO A DATAFRAME"
   ]
  },
  {
   "cell_type": "code",
   "execution_count": 172,
   "metadata": {},
   "outputs": [
    {
     "data": {
      "text/html": [
       "<div>\n",
       "<style scoped>\n",
       "    .dataframe tbody tr th:only-of-type {\n",
       "        vertical-align: middle;\n",
       "    }\n",
       "\n",
       "    .dataframe tbody tr th {\n",
       "        vertical-align: top;\n",
       "    }\n",
       "\n",
       "    .dataframe thead th {\n",
       "        text-align: right;\n",
       "    }\n",
       "</style>\n",
       "<table border=\"1\" class=\"dataframe\">\n",
       "  <thead>\n",
       "    <tr style=\"text-align: right;\">\n",
       "      <th></th>\n",
       "      <th>id</th>\n",
       "      <th>author</th>\n",
       "      <th>content</th>\n",
       "      <th>crawled_at</th>\n",
       "      <th>picture_count</th>\n",
       "      <th>processed</th>\n",
       "      <th>source</th>\n",
       "      <th>title</th>\n",
       "      <th>topic</th>\n",
       "      <th>url</th>\n",
       "      <th>category</th>\n",
       "    </tr>\n",
       "  </thead>\n",
       "  <tbody>\n",
       "    <tr>\n",
       "      <th>0</th>\n",
       "      <td>2</td>\n",
       "      <td>Lâm Thỏa</td>\n",
       "      <td>*Việt Nam - Malaysia: 20h thứ Tư 8/6, trên VnE...</td>\n",
       "      <td>2022-06-07 14:05:51.433712</td>\n",
       "      <td>2</td>\n",
       "      <td>0</td>\n",
       "      <td>None</td>\n",
       "      <td>HLV Malaysia dọa ngáng đường Việt Nam</td>\n",
       "      <td>Thể thao</td>\n",
       "      <td>https://vnexpress.net/hlv-malaysia-doa-ngang-d...</td>\n",
       "      <td>0</td>\n",
       "    </tr>\n",
       "    <tr>\n",
       "      <th>1</th>\n",
       "      <td>3</td>\n",
       "      <td>Thanh Tâm</td>\n",
       "      <td>\"Các khu dân cư của thành phố Severodonetsk đã...</td>\n",
       "      <td>2022-06-07 14:05:51.797545</td>\n",
       "      <td>2</td>\n",
       "      <td>0</td>\n",
       "      <td>None</td>\n",
       "      <td>Nga tuyên bố 'giải phóng' hoàn toàn khu dân cư...</td>\n",
       "      <td>Thế giới</td>\n",
       "      <td>https://vnexpress.net/nga-tuyen-bo-giai-phong-...</td>\n",
       "      <td>1</td>\n",
       "    </tr>\n",
       "    <tr>\n",
       "      <th>2</th>\n",
       "      <td>4</td>\n",
       "      <td>Thảo Mi</td>\n",
       "      <td>Ngày 7/6, phiên xử phúc thẩm ông Tất Thành Can...</td>\n",
       "      <td>2022-06-07 14:05:53.482540</td>\n",
       "      <td>2</td>\n",
       "      <td>0</td>\n",
       "      <td>None</td>\n",
       "      <td>Ông Tất Thành Cang được đề nghị giảm án</td>\n",
       "      <td>Pháp luật</td>\n",
       "      <td>https://vnexpress.net/ong-tat-thanh-cang-duoc-...</td>\n",
       "      <td>1</td>\n",
       "    </tr>\n",
       "    <tr>\n",
       "      <th>3</th>\n",
       "      <td>5</td>\n",
       "      <td>Quốc Thắng</td>\n",
       "      <td>Chiều 7/6, Khoa bị Công an quận Phú Nhuận phối...</td>\n",
       "      <td>2022-06-07 14:05:53.848085</td>\n",
       "      <td>2</td>\n",
       "      <td>0</td>\n",
       "      <td>None</td>\n",
       "      <td>Nghi can sát hại cha bị bắt</td>\n",
       "      <td>Pháp luật</td>\n",
       "      <td>https://vnexpress.net/nghi-can-sat-hai-cha-bi-...</td>\n",
       "      <td>1</td>\n",
       "    </tr>\n",
       "    <tr>\n",
       "      <th>4</th>\n",
       "      <td>6</td>\n",
       "      <td>Vũ Hoàng</td>\n",
       "      <td>Thủ tướng Anh Boris Johnson hôm 6/6 đã \"thoát ...</td>\n",
       "      <td>2022-06-07 14:05:54.226303</td>\n",
       "      <td>1</td>\n",
       "      <td>0</td>\n",
       "      <td>None</td>\n",
       "      <td>Sóng gió chờ đón Thủ tướng Anh hậu bỏ phiếu bấ...</td>\n",
       "      <td>Thế giới</td>\n",
       "      <td>https://vnexpress.net/thoat-hiem-bat-tin-nhiem...</td>\n",
       "      <td>1</td>\n",
       "    </tr>\n",
       "  </tbody>\n",
       "</table>\n",
       "</div>"
      ],
      "text/plain": [
       "   id      author                                            content  \\\n",
       "0   2    Lâm Thỏa  *Việt Nam - Malaysia: 20h thứ Tư 8/6, trên VnE...   \n",
       "1   3   Thanh Tâm  \"Các khu dân cư của thành phố Severodonetsk đã...   \n",
       "2   4     Thảo Mi  Ngày 7/6, phiên xử phúc thẩm ông Tất Thành Can...   \n",
       "3   5  Quốc Thắng  Chiều 7/6, Khoa bị Công an quận Phú Nhuận phối...   \n",
       "4   6    Vũ Hoàng  Thủ tướng Anh Boris Johnson hôm 6/6 đã \"thoát ...   \n",
       "\n",
       "                   crawled_at  picture_count  processed source  \\\n",
       "0  2022-06-07 14:05:51.433712              2          0   None   \n",
       "1  2022-06-07 14:05:51.797545              2          0   None   \n",
       "2  2022-06-07 14:05:53.482540              2          0   None   \n",
       "3  2022-06-07 14:05:53.848085              2          0   None   \n",
       "4  2022-06-07 14:05:54.226303              1          0   None   \n",
       "\n",
       "                                               title      topic  \\\n",
       "0              HLV Malaysia dọa ngáng đường Việt Nam   Thể thao   \n",
       "1  Nga tuyên bố 'giải phóng' hoàn toàn khu dân cư...   Thế giới   \n",
       "2            Ông Tất Thành Cang được đề nghị giảm án  Pháp luật   \n",
       "3                        Nghi can sát hại cha bị bắt  Pháp luật   \n",
       "4  Sóng gió chờ đón Thủ tướng Anh hậu bỏ phiếu bấ...   Thế giới   \n",
       "\n",
       "                                                 url  category  \n",
       "0  https://vnexpress.net/hlv-malaysia-doa-ngang-d...         0  \n",
       "1  https://vnexpress.net/nga-tuyen-bo-giai-phong-...         1  \n",
       "2  https://vnexpress.net/ong-tat-thanh-cang-duoc-...         1  \n",
       "3  https://vnexpress.net/nghi-can-sat-hai-cha-bi-...         1  \n",
       "4  https://vnexpress.net/thoat-hiem-bat-tin-nhiem...         1  "
      ]
     },
     "execution_count": 172,
     "metadata": {},
     "output_type": "execute_result"
    }
   ],
   "source": [
    "file = open(\n",
    "    \"content.json\", encoding='utf8')\n",
    "data = json.load(file)\n",
    "df = pd.DataFrame(data)\n",
    "df.head()\n"
   ]
  },
  {
   "cell_type": "markdown",
   "metadata": {},
   "source": [
    "### DROP UNNECESSARY COLUMNS"
   ]
  },
  {
   "cell_type": "code",
   "execution_count": 173,
   "metadata": {},
   "outputs": [
    {
     "name": "stdout",
     "output_type": "stream",
     "text": [
      "(19411, 11)\n"
     ]
    }
   ],
   "source": [
    "print(df.shape)\n",
    "columns = ['id', 'crawled_at', 'processed', 'source', 'topic']\n",
    "# Drop topic columns since it contributes a lot to the final output (category)\n",
    "df = df.drop(columns=columns)\n"
   ]
  },
  {
   "cell_type": "code",
   "execution_count": 174,
   "metadata": {},
   "outputs": [
    {
     "name": "stdout",
     "output_type": "stream",
     "text": [
      "(19411, 6)\n"
     ]
    }
   ],
   "source": [
    "print(df.shape)\n"
   ]
  },
  {
   "cell_type": "markdown",
   "metadata": {},
   "source": [
    "### SHOW COLUMNS' DATA TYPES AND COUNT NON-NULL VALUES"
   ]
  },
  {
   "cell_type": "code",
   "execution_count": 175,
   "metadata": {},
   "outputs": [
    {
     "name": "stdout",
     "output_type": "stream",
     "text": [
      "<class 'pandas.core.frame.DataFrame'>\n",
      "RangeIndex: 19411 entries, 0 to 19410\n",
      "Data columns (total 6 columns):\n",
      " #   Column         Non-Null Count  Dtype \n",
      "---  ------         --------------  ----- \n",
      " 0   author         19411 non-null  object\n",
      " 1   content        19411 non-null  object\n",
      " 2   picture_count  19411 non-null  int64 \n",
      " 3   title          19411 non-null  object\n",
      " 4   url            19411 non-null  object\n",
      " 5   category       19411 non-null  int64 \n",
      "dtypes: int64(2), object(4)\n",
      "memory usage: 910.0+ KB\n"
     ]
    }
   ],
   "source": [
    "df.info()\n"
   ]
  },
  {
   "cell_type": "markdown",
   "metadata": {},
   "source": [
    "As this project focus on content of the post, we would focus on content field."
   ]
  },
  {
   "cell_type": "code",
   "execution_count": 176,
   "metadata": {},
   "outputs": [],
   "source": [
    "content_array = np.array(df['content'])\n"
   ]
  },
  {
   "cell_type": "markdown",
   "metadata": {},
   "source": [
    "Remove marks and lower case all words"
   ]
  },
  {
   "cell_type": "code",
   "execution_count": 177,
   "metadata": {},
   "outputs": [],
   "source": [
    "def standardize_text(newArr):\n",
    "    newArr = re.sub('/([\\u0041-\\u005A\\u0061-\\u007A\\u00AA\\u00B5\\u00BA\\u00C0-\\u00D6\\u00D8-\\u00F6\\u00F8-\\u02C1\\u02C6-\\u02D1\\u02E0-\\u02E4\\u02EC\\u02EE\\u0370-\\u0374\\u0376\\u0377\\u037A-\\u037D\\u0386\\u0388-\\u038A\\u038C\\u038E-\\u03A1\\u03A3-\\u03F5\\u03F7-\\u0481\\u048A-\\u0527\\u0531-\\u0556\\u0559\\u0561-\\u0587\\u05D0-\\u05EA\\u05F0-\\u05F2\\u0620-\\u064A\\u066E\\u066F\\u0671-\\u06D3\\u06D5\\u06E5\\u06E6\\u06EE\\u06EF\\u06FA-\\u06FC\\u06FF\\u0710\\u0712-\\u072F\\u074D-\\u07A5\\u07B1\\u07CA-\\u07EA\\u07F4\\u07F5\\u07FA\\u0800-\\u0815\\u081A\\u0824\\u0828\\u0840-\\u0858\\u08A0\\u08A2-\\u08AC\\u0904-\\u0939\\u093D\\u0950\\u0958-\\u0961\\u0971-\\u0977\\u0979-\\u097F\\u0985-\\u098C\\u098F\\u0990\\u0993-\\u09A8\\u09AA-\\u09B0\\u09B2\\u09B6-\\u09B9\\u09BD\\u09CE\\u09DC\\u09DD\\u09DF-\\u09E1\\u09F0\\u09F1\\u0A05-\\u0A0A\\u0A0F\\u0A10\\u0A13-\\u0A28\\u0A2A-\\u0A30\\u0A32\\u0A33\\u0A35\\u0A36\\u0A38\\u0A39\\u0A59-\\u0A5C\\u0A5E\\u0A72-\\u0A74\\u0A85-\\u0A8D\\u0A8F-\\u0A91\\u0A93-\\u0AA8\\u0AAA-\\u0AB0\\u0AB2\\u0AB3\\u0AB5-\\u0AB9\\u0ABD\\u0AD0\\u0AE0\\u0AE1\\u0B05-\\u0B0C\\u0B0F\\u0B10\\u0B13-\\u0B28\\u0B2A-\\u0B30\\u0B32\\u0B33\\u0B35-\\u0B39\\u0B3D\\u0B5C\\u0B5D\\u0B5F-\\u0B61\\u0B71\\u0B83\\u0B85-\\u0B8A\\u0B8E-\\u0B90\\u0B92-\\u0B95\\u0B99\\u0B9A\\u0B9C\\u0B9E\\u0B9F\\u0BA3\\u0BA4\\u0BA8-\\u0BAA\\u0BAE-\\u0BB9\\u0BD0\\u0C05-\\u0C0C\\u0C0E-\\u0C10\\u0C12-\\u0C28\\u0C2A-\\u0C33\\u0C35-\\u0C39\\u0C3D\\u0C58\\u0C59\\u0C60\\u0C61\\u0C85-\\u0C8C\\u0C8E-\\u0C90\\u0C92-\\u0CA8\\u0CAA-\\u0CB3\\u0CB5-\\u0CB9\\u0CBD\\u0CDE\\u0CE0\\u0CE1\\u0CF1\\u0CF2\\u0D05-\\u0D0C\\u0D0E-\\u0D10\\u0D12-\\u0D3A\\u0D3D\\u0D4E\\u0D60\\u0D61\\u0D7A-\\u0D7F\\u0D85-\\u0D96\\u0D9A-\\u0DB1\\u0DB3-\\u0DBB\\u0DBD\\u0DC0-\\u0DC6\\u0E01-\\u0E30\\u0E32\\u0E33\\u0E40-\\u0E46\\u0E81\\u0E82\\u0E84\\u0E87\\u0E88\\u0E8A\\u0E8D\\u0E94-\\u0E97\\u0E99-\\u0E9F\\u0EA1-\\u0EA3\\u0EA5\\u0EA7\\u0EAA\\u0EAB\\u0EAD-\\u0EB0\\u0EB2\\u0EB3\\u0EBD\\u0EC0-\\u0EC4\\u0EC6\\u0EDC-\\u0EDF\\u0F00\\u0F40-\\u0F47\\u0F49-\\u0F6C\\u0F88-\\u0F8C\\u1000-\\u102A\\u103F\\u1050-\\u1055\\u105A-\\u105D\\u1061\\u1065\\u1066\\u106E-\\u1070\\u1075-\\u1081\\u108E\\u10A0-\\u10C5\\u10C7\\u10CD\\u10D0-\\u10FA\\u10FC-\\u1248\\u124A-\\u124D\\u1250-\\u1256\\u1258\\u125A-\\u125D\\u1260-\\u1288\\u128A-\\u128D\\u1290-\\u12B0\\u12B2-\\u12B5\\u12B8-\\u12BE\\u12C0\\u12C2-\\u12C5\\u12C8-\\u12D6\\u12D8-\\u1310\\u1312-\\u1315\\u1318-\\u135A\\u1380-\\u138F\\u13A0-\\u13F4\\u1401-\\u166C\\u166F-\\u167F\\u1681-\\u169A\\u16A0-\\u16EA\\u1700-\\u170C\\u170E-\\u1711\\u1720-\\u1731\\u1740-\\u1751\\u1760-\\u176C\\u176E-\\u1770\\u1780-\\u17B3\\u17D7\\u17DC\\u1820-\\u1877\\u1880-\\u18A8\\u18AA\\u18B0-\\u18F5\\u1900-\\u191C\\u1950-\\u196D\\u1970-\\u1974\\u1980-\\u19AB\\u19C1-\\u19C7\\u1A00-\\u1A16\\u1A20-\\u1A54\\u1AA7\\u1B05-\\u1B33\\u1B45-\\u1B4B\\u1B83-\\u1BA0\\u1BAE\\u1BAF\\u1BBA-\\u1BE5\\u1C00-\\u1C23\\u1C4D-\\u1C4F\\u1C5A-\\u1C7D\\u1CE9-\\u1CEC\\u1CEE-\\u1CF1\\u1CF5\\u1CF6\\u1D00-\\u1DBF\\u1E00-\\u1F15\\u1F18-\\u1F1D\\u1F20-\\u1F45\\u1F48-\\u1F4D\\u1F50-\\u1F57\\u1F59\\u1F5B\\u1F5D\\u1F5F-\\u1F7D\\u1F80-\\u1FB4\\u1FB6-\\u1FBC\\u1FBE\\u1FC2-\\u1FC4\\u1FC6-\\u1FCC\\u1FD0-\\u1FD3\\u1FD6-\\u1FDB\\u1FE0-\\u1FEC\\u1FF2-\\u1FF4\\u1FF6-\\u1FFC\\u2071\\u207F\\u2090-\\u209C\\u2102\\u2107\\u210A-\\u2113\\u2115\\u2119-\\u211D\\u2124\\u2126\\u2128\\u212A-\\u212D\\u212F-\\u2139\\u213C-\\u213F\\u2145-\\u2149\\u214E\\u2183\\u2184\\u2C00-\\u2C2E\\u2C30-\\u2C5E\\u2C60-\\u2CE4\\u2CEB-\\u2CEE\\u2CF2\\u2CF3\\u2D00-\\u2D25\\u2D27\\u2D2D\\u2D30-\\u2D67\\u2D6F\\u2D80-\\u2D96\\u2DA0-\\u2DA6\\u2DA8-\\u2DAE\\u2DB0-\\u2DB6\\u2DB8-\\u2DBE\\u2DC0-\\u2DC6\\u2DC8-\\u2DCE\\u2DD0-\\u2DD6\\u2DD8-\\u2DDE\\u2E2F\\u3005\\u3006\\u3031-\\u3035\\u303B\\u303C\\u3041-\\u3096\\u309D-\\u309F\\u30A1-\\u30FA\\u30FC-\\u30FF\\u3105-\\u312D\\u3131-\\u318E\\u31A0-\\u31BA\\u31F0-\\u31FF\\u3400-\\u4DB5\\u4E00-\\u9FCC\\uA000-\\uA48C\\uA4D0-\\uA4FD\\uA500-\\uA60C\\uA610-\\uA61F\\uA62A\\uA62B\\uA640-\\uA66E\\uA67F-\\uA697\\uA6A0-\\uA6E5\\uA717-\\uA71F\\uA722-\\uA788\\uA78B-\\uA78E\\uA790-\\uA793\\uA7A0-\\uA7AA\\uA7F8-\\uA801\\uA803-\\uA805\\uA807-\\uA80A\\uA80C-\\uA822\\uA840-\\uA873\\uA882-\\uA8B3\\uA8F2-\\uA8F7\\uA8FB\\uA90A-\\uA925\\uA930-\\uA946\\uA960-\\uA97C\\uA984-\\uA9B2\\uA9CF\\uAA00-\\uAA28\\uAA40-\\uAA42\\uAA44-\\uAA4B\\uAA60-\\uAA76\\uAA7A\\uAA80-\\uAAAF\\uAAB1\\uAAB5\\uAAB6\\uAAB9-\\uAABD\\uAAC0\\uAAC2\\uAADB-\\uAADD\\uAAE0-\\uAAEA\\uAAF2-\\uAAF4\\uAB01-\\uAB06\\uAB09-\\uAB0E\\uAB11-\\uAB16\\uAB20-\\uAB26\\uAB28-\\uAB2E\\uABC0-\\uABE2\\uAC00-\\uD7A3\\uD7B0-\\uD7C6\\uD7CB-\\uD7FB\\uF900-\\uFA6D\\uFA70-\\uFAD9\\uFB00-\\uFB06\\uFB13-\\uFB17\\uFB1D\\uFB1F-\\uFB28\\uFB2A-\\uFB36\\uFB38-\\uFB3C\\uFB3E\\uFB40\\uFB41\\uFB43\\uFB44\\uFB46-\\uFBB1\\uFBD3-\\uFD3D\\uFD50-\\uFD8F\\uFD92-\\uFDC7\\uFDF0-\\uFDFB\\uFE70-\\uFE74\\uFE76-\\uFEFC\\uFF21-\\uFF3A\\uFF41-\\uFF5A\\uFF66-\\uFFBE\\uFFC2-\\uFFC7\\uFFCA-\\uFFCF\\uFFD2-\\uFFD7\\uFFDA-\\uFFDC]+)/g', ' ', content_array[i])\n",
    "    newArr = newArr.lower()\n",
    "\n",
    "    newArr = newArr.split()\n",
    "    newArr = ' '.join(newArr)\n",
    "    newArr = re.sub(r'[0-9]+', '', newArr)\n",
    "    return newArr"
   ]
  },
  {
   "cell_type": "code",
   "execution_count": 178,
   "metadata": {},
   "outputs": [],
   "source": [
    "corpus = []\n",
    "\n",
    "for i in range(0, 19410):\n",
    "    newArr = standardize_text(newArr)\n",
    "    corpus.append(newArr)\n"
   ]
  },
  {
   "cell_type": "markdown",
   "metadata": {},
   "source": [
    "Example of a post after preprocessing"
   ]
  },
  {
   "cell_type": "code",
   "execution_count": 179,
   "metadata": {},
   "outputs": [
    {
     "data": {
      "text/plain": [
       "'*việt nam - malaysia: h thứ tư /, trên vnexpress. malaysia đã bị loại sau khi thua hàn quốc - và thái lan -. bởi vậy, lượt cuối gặp việt nam chỉ mang ý nghĩa thủ tục đối với họ. tuy nhiên, kết quả trận đấu đó sẽ ảnh hưởng đến cục diện bảng c - nơi hàn quốc, thái lan và việt nam đều có cơ hội vào tứ kết. trên nhật báo malaysia sinar harian, hlv maloney khẳng định: \"chúng tôi sẽ đánh giá lại các vấn đề về nhân sự và chuyên môn. chắc chắn, nhiều cầu thủ mới sẽ được trao cơ hội ở trận cuối. tôi hy vọng malaysia có thể giành ít nhất một điểm trước việt nam\". ở lượt cuối ngày mai /, việt nam cần đánh bại malaysia, và hy vọng cặp đấu còn lại giữa thái lan và hàn quốc có kết quả thắng bại hoặc hòa nhau -, - hoặc -. nếu hai đối thủ cạnh tranh hòa nhau -, việt nam sẽ bị loại kể cả thắng malaysia. bởi lúc đó, ba đội bằng điểm nhau, nhưng đội bóng của hlv gong oh-kyun kém số bàn thắng trong các trận đối đầu với hai đối thủ này. u châu á  từng được xem là giải đấu trọng điểm của bóng đá malaysia. thậm chí, hlv maloney không sử dụng cầu thủ quá tuổi ở sea games , nhằm tạo điều kiện cho các cầu thủ u ra sân, rèn luyện cho giải đấu tại uzbekistan. hai trận đã qua, malaysia thi đấu với sơ đồ --. họ thường nhập cuộc hứng khởi và tỏ ra nguy hiểm với những pha lên bóng ở cánh phải. tuy nhiên, hàng phòng ngự gồm ba trung vệ của malaysia thường mắc sai lầm dẫn tới bàn thua. họ cũng không thể hiện được hình ảnh của một đội bóng bản lĩnh khi đối diện khó khăn. sau khi nhận bàn thua đầu tiên, đội bóng của maloney thường nhanh chóng mất tinh thần. \"tình thế của malaysia hiện tại thật đáng buồn\", hlv maloney nói thêm. \"nhưng chúng tôi phải nhìn về phía trước. tôi hy vọng các cầu thủ sẽ hồi sinh khi đối đầu việt nam. hai trận trước, nhiều cầu thủ tỏ ra lười nhác và phải trả giá. đội phải cải thiện rất nhiều\". hai trận thua đậm cũng khiến người hâm mộ malaysia thất vọng, khiến tương lai của maloney bị đặt dấu hỏi. dù vậy, nhà cầm quân người australia khẳng định ông muốn tiếp tục gắn bó để phát triển lứa cầu thủ hiện tại. \"tất nhiên, chuyện này cần trao đổi với các lãnh đạo của liên đoàn. nhưng tôi mong muốn tiếp tục dẫn dắt lứa cầu thủ này để hướng đến mục tiêu giành vé dự olympic tại paris vào năm \", ông bày tỏ. lâm thỏa (từ tashkent)'"
      ]
     },
     "execution_count": 179,
     "metadata": {},
     "output_type": "execute_result"
    }
   ],
   "source": [
    "corpus[0]\n"
   ]
  },
  {
   "cell_type": "markdown",
   "metadata": {},
   "source": [
    "## Transform the data using CountVectorizer"
   ]
  },
  {
   "cell_type": "code",
   "execution_count": 180,
   "metadata": {},
   "outputs": [],
   "source": [
    "countv = CountVectorizer(max_features=1200)\n",
    "X = countv.fit_transform(corpus).toarray()\n",
    "y = df.iloc[0:19410, 5].values\n"
   ]
  },
  {
   "cell_type": "code",
   "execution_count": 181,
   "metadata": {},
   "outputs": [
    {
     "data": {
      "text/plain": [
       "array([[ 0,  0,  0, ...,  0,  0,  0],\n",
       "       [ 0,  0,  1, ...,  0,  0,  0],\n",
       "       [ 0,  0,  0, ...,  0, 13,  0],\n",
       "       ...,\n",
       "       [ 0,  0,  7, ...,  0,  0,  2],\n",
       "       [ 0,  0,  0, ...,  0,  2,  2],\n",
       "       [ 0,  0,  0, ...,  0,  0,  0]], dtype=int64)"
      ]
     },
     "execution_count": 181,
     "metadata": {},
     "output_type": "execute_result"
    }
   ],
   "source": [
    "X\n"
   ]
  },
  {
   "cell_type": "markdown",
   "metadata": {},
   "source": [
    "### Most used tokens in the dataset"
   ]
  },
  {
   "cell_type": "code",
   "execution_count": 182,
   "metadata": {},
   "outputs": [
    {
     "name": "stderr",
     "output_type": "stream",
     "text": [
      "C:\\Users\\Admin\\AppData\\Roaming\\Python\\Python39\\site-packages\\sklearn\\utils\\deprecation.py:87: FutureWarning: Function get_feature_names is deprecated; get_feature_names is deprecated in 1.0 and will be removed in 1.2. Please use get_feature_names_out instead.\n",
      "  warnings.warn(msg, category=FutureWarning)\n"
     ]
    },
    {
     "data": {
      "text/plain": [
       "['ai',\n",
       " 'an',\n",
       " 'anh',\n",
       " 'apple',\n",
       " 'arabia',\n",
       " 'australia',\n",
       " 'ba',\n",
       " 'ban',\n",
       " 'bang',\n",
       " 'bao',\n",
       " 'bay',\n",
       " 'binh',\n",
       " 'biên',\n",
       " 'biến',\n",
       " 'biết',\n",
       " 'biển',\n",
       " 'biểu',\n",
       " 'biện',\n",
       " 'biệt',\n",
       " 'buổi',\n",
       " 'buộc',\n",
       " 'bà',\n",
       " 'bài',\n",
       " 'bàn',\n",
       " 'bày',\n",
       " 'bác',\n",
       " 'bán',\n",
       " 'bánh',\n",
       " 'báo',\n",
       " 'bãi',\n",
       " 'bè',\n",
       " 'bé',\n",
       " 'bên',\n",
       " 'bình',\n",
       " 'bí',\n",
       " 'bóng',\n",
       " 'bùng',\n",
       " 'băng',\n",
       " 'bước',\n",
       " 'bạc',\n",
       " 'bạch',\n",
       " 'bại',\n",
       " 'bạn',\n",
       " 'bạo',\n",
       " 'bản',\n",
       " 'bảng',\n",
       " 'bảo',\n",
       " 'bất',\n",
       " 'bầu',\n",
       " 'bật',\n",
       " 'bắc',\n",
       " 'bắt',\n",
       " 'bằng',\n",
       " 'bến',\n",
       " 'bền',\n",
       " 'bệnh',\n",
       " 'bị',\n",
       " 'bỏ',\n",
       " 'bố',\n",
       " 'bối',\n",
       " 'bồi',\n",
       " 'bổ',\n",
       " 'bộ',\n",
       " 'bởi',\n",
       " 'bức',\n",
       " 'bữa',\n",
       " 'ca',\n",
       " 'cam',\n",
       " 'can',\n",
       " 'cao',\n",
       " 'cha',\n",
       " 'chi',\n",
       " 'chia',\n",
       " 'chiếc',\n",
       " 'chiếm',\n",
       " 'chiến',\n",
       " 'chiếu',\n",
       " 'chiều',\n",
       " 'cho',\n",
       " 'chu',\n",
       " 'chung',\n",
       " 'chuyên',\n",
       " 'chuyến',\n",
       " 'chuyển',\n",
       " 'chuyện',\n",
       " 'chuẩn',\n",
       " 'chuỗi',\n",
       " 'cháu',\n",
       " 'cháy',\n",
       " 'chân',\n",
       " 'châu',\n",
       " 'chí',\n",
       " 'chính',\n",
       " 'chóng',\n",
       " 'chú',\n",
       " 'chúng',\n",
       " 'chăm',\n",
       " 'chơi',\n",
       " 'chưa',\n",
       " 'chương',\n",
       " 'chạm',\n",
       " 'chạy',\n",
       " 'chấp',\n",
       " 'chất',\n",
       " 'chậm',\n",
       " 'chắc',\n",
       " 'chắn',\n",
       " 'chẳng',\n",
       " 'chặn',\n",
       " 'chặt',\n",
       " 'chế',\n",
       " 'chết',\n",
       " 'chỉ',\n",
       " 'chỉnh',\n",
       " 'chị',\n",
       " 'chịu',\n",
       " 'chọn',\n",
       " 'chống',\n",
       " 'chồng',\n",
       " 'chỗ',\n",
       " 'chờ',\n",
       " 'chục',\n",
       " 'chụp',\n",
       " 'chủ',\n",
       " 'chứ',\n",
       " 'chứa',\n",
       " 'chức',\n",
       " 'chứng',\n",
       " 'chữa',\n",
       " 'clb',\n",
       " 'co',\n",
       " 'coi',\n",
       " 'con',\n",
       " 'covid',\n",
       " 'cung',\n",
       " 'cup',\n",
       " 'cuối',\n",
       " 'cuốn',\n",
       " 'cuộc',\n",
       " 'cà',\n",
       " 'càng',\n",
       " 'cá',\n",
       " 'các',\n",
       " 'cách',\n",
       " 'cái',\n",
       " 'cán',\n",
       " 'cánh',\n",
       " 'cáo',\n",
       " 'cân',\n",
       " 'câu',\n",
       " 'cây',\n",
       " 'còn',\n",
       " 'có',\n",
       " 'cô',\n",
       " 'công',\n",
       " 'cùng',\n",
       " 'căn',\n",
       " 'căng',\n",
       " 'cũ',\n",
       " 'cũng',\n",
       " 'cơ',\n",
       " 'cư',\n",
       " 'cưới',\n",
       " 'cường',\n",
       " 'cạnh',\n",
       " 'cả',\n",
       " 'cải',\n",
       " 'cảm',\n",
       " 'cảnh',\n",
       " 'cấm',\n",
       " 'cấp',\n",
       " 'cấu',\n",
       " 'cầm',\n",
       " 'cần',\n",
       " 'cầu',\n",
       " 'cận',\n",
       " 'cập',\n",
       " 'cậu',\n",
       " 'cắt',\n",
       " 'cặp',\n",
       " 'cố',\n",
       " 'cổ',\n",
       " 'cộng',\n",
       " 'cụ',\n",
       " 'cục',\n",
       " 'của',\n",
       " 'cứ',\n",
       " 'cứu',\n",
       " 'cử',\n",
       " 'cửa',\n",
       " 'cực',\n",
       " 'cựu',\n",
       " 'da',\n",
       " 'danh',\n",
       " 'danviet',\n",
       " 'dao',\n",
       " 'di',\n",
       " 'dinh',\n",
       " 'diễn',\n",
       " 'diện',\n",
       " 'do',\n",
       " 'doanh',\n",
       " 'du',\n",
       " 'dung',\n",
       " 'duy',\n",
       " 'duyệt',\n",
       " 'dài',\n",
       " 'dàng',\n",
       " 'dành',\n",
       " 'dân',\n",
       " 'dây',\n",
       " 'dòng',\n",
       " 'dõi',\n",
       " 'dù',\n",
       " 'dùng',\n",
       " 'dũng',\n",
       " 'dư',\n",
       " 'dương',\n",
       " 'dưới',\n",
       " 'dưỡng',\n",
       " 'dạng',\n",
       " 'dạy',\n",
       " 'dấu',\n",
       " 'dần',\n",
       " 'dầu',\n",
       " 'dẫn',\n",
       " 'dễ',\n",
       " 'dịch',\n",
       " 'dục',\n",
       " 'dụng',\n",
       " 'dứt',\n",
       " 'dừng',\n",
       " 'dữ',\n",
       " 'dự',\n",
       " 'dựa',\n",
       " 'dựng',\n",
       " 'em',\n",
       " 'eu',\n",
       " 'facebook',\n",
       " 'ghi',\n",
       " 'gia',\n",
       " 'giai',\n",
       " 'gian',\n",
       " 'giang',\n",
       " 'giao',\n",
       " 'giành',\n",
       " 'giàu',\n",
       " 'giá',\n",
       " 'giác',\n",
       " 'giám',\n",
       " 'giáo',\n",
       " 'gió',\n",
       " 'giúp',\n",
       " 'giả',\n",
       " 'giải',\n",
       " 'giảm',\n",
       " 'giản',\n",
       " 'giấy',\n",
       " 'giống',\n",
       " 'giới',\n",
       " 'giờ',\n",
       " 'giữ',\n",
       " 'giữa',\n",
       " 'gái',\n",
       " 'gây',\n",
       " 'gì',\n",
       " 'góc',\n",
       " 'gói',\n",
       " 'góp',\n",
       " 'gương',\n",
       " 'gấp',\n",
       " 'gần',\n",
       " 'gắn',\n",
       " 'gắng',\n",
       " 'gặp',\n",
       " 'gọi',\n",
       " 'gốc',\n",
       " 'gồm',\n",
       " 'gửi',\n",
       " 'ha',\n",
       " 'hai',\n",
       " 'hay',\n",
       " 'hcm',\n",
       " 'hiểm',\n",
       " 'hiểu',\n",
       " 'hiện',\n",
       " 'hiệp',\n",
       " 'hiệu',\n",
       " 'hlv',\n",
       " 'hoa',\n",
       " 'hoàn',\n",
       " 'hoàng',\n",
       " 'hoạch',\n",
       " 'hoạt',\n",
       " 'hoặc',\n",
       " 'http',\n",
       " 'https',\n",
       " 'huy',\n",
       " 'huynh',\n",
       " 'huyết',\n",
       " 'huyện',\n",
       " 'hy',\n",
       " 'hà',\n",
       " 'hài',\n",
       " 'hàn',\n",
       " 'hàng',\n",
       " 'hành',\n",
       " 'hát',\n",
       " 'hâm',\n",
       " 'hãng',\n",
       " 'hãy',\n",
       " 'hè',\n",
       " 'hình',\n",
       " 'hòa',\n",
       " 'hóa',\n",
       " 'hôm',\n",
       " 'hôn',\n",
       " 'hùng',\n",
       " 'hút',\n",
       " 'hơi',\n",
       " 'hơn',\n",
       " 'hưng',\n",
       " 'hương',\n",
       " 'hướng',\n",
       " 'hưởng',\n",
       " 'hạ',\n",
       " 'hại',\n",
       " 'hạn',\n",
       " 'hạng',\n",
       " 'hạnh',\n",
       " 'hạt',\n",
       " 'hải',\n",
       " 'hấp',\n",
       " 'hầu',\n",
       " 'hậu',\n",
       " 'hằng',\n",
       " 'hẹn',\n",
       " 'hết',\n",
       " 'hệ',\n",
       " 'họ',\n",
       " 'học',\n",
       " 'họp',\n",
       " 'hỏi',\n",
       " 'hồ',\n",
       " 'hồi',\n",
       " 'hồng',\n",
       " 'hỗ',\n",
       " 'hộ',\n",
       " 'hội',\n",
       " 'hợp',\n",
       " 'hủy',\n",
       " 'hứng',\n",
       " 'hữu',\n",
       " 'iphone',\n",
       " 'kg',\n",
       " 'khai',\n",
       " 'khi',\n",
       " 'khiến',\n",
       " 'kho',\n",
       " 'khoa',\n",
       " 'khoán',\n",
       " 'khoản',\n",
       " 'khoảng',\n",
       " 'khu',\n",
       " 'khuyến',\n",
       " 'khá',\n",
       " 'khác',\n",
       " 'khách',\n",
       " 'khám',\n",
       " 'khán',\n",
       " 'kháng',\n",
       " 'khánh',\n",
       " 'khí',\n",
       " 'khó',\n",
       " 'khóa',\n",
       " 'không',\n",
       " 'khúc',\n",
       " 'khăn',\n",
       " 'khả',\n",
       " 'khảo',\n",
       " 'khẩu',\n",
       " 'khắc',\n",
       " 'khắp',\n",
       " 'khẳng',\n",
       " 'khỏe',\n",
       " 'khỏi',\n",
       " 'khối',\n",
       " 'khởi',\n",
       " 'khủng',\n",
       " 'kia',\n",
       " 'kim',\n",
       " 'kinh',\n",
       " 'kiên',\n",
       " 'kiếm',\n",
       " 'kiến',\n",
       " 'kiểm',\n",
       " 'kiểu',\n",
       " 'kiệm',\n",
       " 'kiện',\n",
       " 'km',\n",
       " 'kèm',\n",
       " 'kém',\n",
       " 'kéo',\n",
       " 'kê',\n",
       " 'kênh',\n",
       " 'kêu',\n",
       " 'kích',\n",
       " 'kính',\n",
       " 'ký',\n",
       " 'kế',\n",
       " 'kết',\n",
       " 'kể',\n",
       " 'kịch',\n",
       " 'kịp',\n",
       " 'kỳ',\n",
       " 'kỷ',\n",
       " 'kỹ',\n",
       " 'la',\n",
       " 'lai',\n",
       " 'lan',\n",
       " 'lao',\n",
       " 'league',\n",
       " 'linh',\n",
       " 'liên',\n",
       " 'liền',\n",
       " 'liệt',\n",
       " 'liệu',\n",
       " 'lo',\n",
       " 'long',\n",
       " 'loại',\n",
       " 'loạt',\n",
       " 'luyện',\n",
       " 'luôn',\n",
       " 'luận',\n",
       " 'luật',\n",
       " 'ly',\n",
       " 'là',\n",
       " 'làm',\n",
       " 'làn',\n",
       " 'làng',\n",
       " 'lào',\n",
       " 'lá',\n",
       " 'lái',\n",
       " 'lâm',\n",
       " 'lâu',\n",
       " 'lãi',\n",
       " 'lãnh',\n",
       " 'lê',\n",
       " 'lên',\n",
       " 'lít',\n",
       " 'lòng',\n",
       " 'lúc',\n",
       " 'lý',\n",
       " 'lĩnh',\n",
       " 'lưu',\n",
       " 'lương',\n",
       " 'lưới',\n",
       " 'lược',\n",
       " 'lượng',\n",
       " 'lượt',\n",
       " 'lạ',\n",
       " 'lạc',\n",
       " 'lại',\n",
       " 'lạm',\n",
       " 'lạnh',\n",
       " 'lấy',\n",
       " 'lần',\n",
       " 'lẫn',\n",
       " 'lập',\n",
       " 'lắng',\n",
       " 'lẽ',\n",
       " 'lễ',\n",
       " 'lệ',\n",
       " 'lệnh',\n",
       " 'lịch',\n",
       " 'lối',\n",
       " 'lỗ',\n",
       " 'lỗi',\n",
       " 'lộ',\n",
       " 'lớn',\n",
       " 'lớp',\n",
       " 'lời',\n",
       " 'lợi',\n",
       " 'lục',\n",
       " 'lừa',\n",
       " 'lửa',\n",
       " 'lựa',\n",
       " 'lực',\n",
       " 'ma',\n",
       " 'mai',\n",
       " 'malaysia',\n",
       " 'mang',\n",
       " 'may',\n",
       " 'minh',\n",
       " 'miền',\n",
       " 'miễn',\n",
       " 'mong',\n",
       " 'mua',\n",
       " 'muốn',\n",
       " 'mà',\n",
       " 'màn',\n",
       " 'màu',\n",
       " 'mái',\n",
       " 'máu',\n",
       " 'máy',\n",
       " 'mã',\n",
       " 'mê',\n",
       " 'mình',\n",
       " 'món',\n",
       " 'mô',\n",
       " 'môi',\n",
       " 'môn',\n",
       " 'mùa',\n",
       " 'mũi',\n",
       " 'mơ',\n",
       " 'mưa',\n",
       " 'mạch',\n",
       " 'mại',\n",
       " 'mạng',\n",
       " 'mạnh',\n",
       " 'mất',\n",
       " 'mẫu',\n",
       " 'mật',\n",
       " 'mắc',\n",
       " 'mắt',\n",
       " 'mặc',\n",
       " 'mặt',\n",
       " 'mẹ',\n",
       " 'mẽ',\n",
       " 'mềm',\n",
       " 'mọi',\n",
       " 'mối',\n",
       " 'mỗi',\n",
       " 'mộ',\n",
       " 'một',\n",
       " 'mới',\n",
       " 'mời',\n",
       " 'mở',\n",
       " 'mục',\n",
       " 'mức',\n",
       " 'mỹ',\n",
       " 'nam',\n",
       " 'nato',\n",
       " 'nay',\n",
       " 'new',\n",
       " 'ng',\n",
       " 'nga',\n",
       " 'ngay',\n",
       " 'nghe',\n",
       " 'nghi',\n",
       " 'nghiêm',\n",
       " 'nghiên',\n",
       " 'nghiệm',\n",
       " 'nghiệp',\n",
       " 'nghìn',\n",
       " 'nghĩ',\n",
       " 'nghĩa',\n",
       " 'nghề',\n",
       " 'nghệ',\n",
       " 'nghỉ',\n",
       " 'nghị',\n",
       " 'ngoài',\n",
       " 'ngoái',\n",
       " 'ngoại',\n",
       " 'nguy',\n",
       " 'nguyên',\n",
       " 'nguyễn',\n",
       " 'nguyện',\n",
       " 'nguồn',\n",
       " 'ngành',\n",
       " 'ngày',\n",
       " 'ngân',\n",
       " 'ngôi',\n",
       " 'ngôn',\n",
       " 'ngăn',\n",
       " 'ngũ',\n",
       " 'người',\n",
       " 'ngược',\n",
       " 'ngại',\n",
       " 'ngắn',\n",
       " 'ngọc',\n",
       " 'ngồi',\n",
       " 'ngờ',\n",
       " 'ngủ',\n",
       " 'ngừng',\n",
       " 'ngữ',\n",
       " 'nha',\n",
       " 'nhanh',\n",
       " 'nhau',\n",
       " 'nhi',\n",
       " 'nhiên',\n",
       " 'nhiều',\n",
       " 'nhiễm',\n",
       " 'nhiệm',\n",
       " 'nhiệt',\n",
       " 'nhu',\n",
       " 'nhuận',\n",
       " 'nhà',\n",
       " 'nhân',\n",
       " 'nhìn',\n",
       " 'nhóm',\n",
       " 'như',\n",
       " 'nhưng',\n",
       " 'nhượng',\n",
       " 'nhạc',\n",
       " 'nhấn',\n",
       " 'nhất',\n",
       " 'nhận',\n",
       " 'nhập',\n",
       " 'nhật',\n",
       " 'nhắc',\n",
       " 'nhằm',\n",
       " 'nhẹ',\n",
       " 'nhỏ',\n",
       " 'nhớ',\n",
       " 'nhờ',\n",
       " 'những',\n",
       " 'ninh',\n",
       " 'niên',\n",
       " 'niềm',\n",
       " 'niệm',\n",
       " 'nuôi',\n",
       " 'nào',\n",
       " 'này',\n",
       " 'nâng',\n",
       " 'nên',\n",
       " 'nêu',\n",
       " 'nó',\n",
       " 'nói',\n",
       " 'nóng',\n",
       " 'nông',\n",
       " 'núi',\n",
       " 'năm',\n",
       " 'năng',\n",
       " 'nơi',\n",
       " 'nước',\n",
       " 'nạn',\n",
       " 'nắm',\n",
       " 'nắng',\n",
       " 'nằm',\n",
       " 'nẵng',\n",
       " 'nặng',\n",
       " 'nếu',\n",
       " 'nền',\n",
       " 'nối',\n",
       " 'nổ',\n",
       " 'nổi',\n",
       " 'nỗ',\n",
       " 'nội',\n",
       " 'nợ',\n",
       " 'nửa',\n",
       " 'nữ',\n",
       " 'nữa',\n",
       " 'pha',\n",
       " 'phan',\n",
       " 'phi',\n",
       " 'phim',\n",
       " 'phiên',\n",
       " 'phiếu',\n",
       " 'phong',\n",
       " 'phá',\n",
       " 'phán',\n",
       " 'pháo',\n",
       " 'pháp',\n",
       " 'phát',\n",
       " 'phân',\n",
       " 'phép',\n",
       " 'phê',\n",
       " 'phí',\n",
       " 'phía',\n",
       " 'phòng',\n",
       " 'phó',\n",
       " 'phóng',\n",
       " 'phù',\n",
       " 'phú',\n",
       " 'phúc',\n",
       " 'phút',\n",
       " 'phương',\n",
       " 'phường',\n",
       " 'phạm',\n",
       " 'phạt',\n",
       " 'phải',\n",
       " 'phản',\n",
       " 'phần',\n",
       " 'phẩm',\n",
       " 'phận',\n",
       " 'phố',\n",
       " 'phối',\n",
       " 'phổ',\n",
       " 'phụ',\n",
       " 'phục',\n",
       " 'phủ',\n",
       " 'qua',\n",
       " 'quan',\n",
       " 'quang',\n",
       " 'quanh',\n",
       " 'quay',\n",
       " 'quen',\n",
       " 'quy',\n",
       " 'quyết',\n",
       " 'quyền',\n",
       " 'quá',\n",
       " 'quán',\n",
       " 'quân',\n",
       " 'quê',\n",
       " 'quý',\n",
       " 'quả',\n",
       " 'quản',\n",
       " 'quảng',\n",
       " 'quần',\n",
       " 'quận',\n",
       " 'quốc',\n",
       " 'quỹ',\n",
       " 'ra',\n",
       " 'rau',\n",
       " 'riêng',\n",
       " 'ro',\n",
       " 'ràng',\n",
       " 'rõ',\n",
       " 'rút',\n",
       " 'rơi',\n",
       " 'rất',\n",
       " 'rằng',\n",
       " 'rối',\n",
       " 'rồi',\n",
       " 'rộng',\n",
       " 'rời',\n",
       " 'rủi',\n",
       " 'rừng',\n",
       " 'sai',\n",
       " 'sang',\n",
       " 'sao',\n",
       " 'sau',\n",
       " 'saudi',\n",
       " 'sinh',\n",
       " 'siêu',\n",
       " 'sn',\n",
       " 'so',\n",
       " 'song',\n",
       " 'soát',\n",
       " 'sung',\n",
       " 'suy',\n",
       " 'suất',\n",
       " 'suốt',\n",
       " 'sàn',\n",
       " 'sàng',\n",
       " 'sách',\n",
       " 'sáng',\n",
       " 'sát',\n",
       " 'sân',\n",
       " 'sâu',\n",
       " 'sóc',\n",
       " 'sóng',\n",
       " 'sông',\n",
       " 'súng',\n",
       " 'sĩ',\n",
       " 'sơ',\n",
       " 'sơn',\n",
       " 'sư',\n",
       " 'sạch',\n",
       " 'sản',\n",
       " 'sắc',\n",
       " 'sắm',\n",
       " 'sắp',\n",
       " 'sắt',\n",
       " 'sẵn',\n",
       " 'sẻ',\n",
       " 'sẽ',\n",
       " 'số',\n",
       " 'sống',\n",
       " 'sốt',\n",
       " 'sớm',\n",
       " 'sở',\n",
       " 'sợ',\n",
       " 'sứ',\n",
       " 'sức',\n",
       " 'sử',\n",
       " 'sửa',\n",
       " 'sữa',\n",
       " 'sự',\n",
       " 'ta',\n",
       " 'tai',\n",
       " 'tay',\n",
       " 'tham',\n",
       " 'thanh',\n",
       " 'thao',\n",
       " 'thay',\n",
       " 'the',\n",
       " 'theo',\n",
       " 'thi',\n",
       " 'thiên',\n",
       " 'thiết',\n",
       " 'thiếu',\n",
       " 'thiểu',\n",
       " 'thiện',\n",
       " 'thiệt',\n",
       " 'thiệu',\n",
       " 'thoát',\n",
       " 'thoại',\n",
       " 'thpt',\n",
       " 'thu',\n",
       " 'thua',\n",
       " 'thuyết',\n",
       " 'thuê',\n",
       " 'thuận',\n",
       " 'thuật',\n",
       " 'thuế',\n",
       " 'thuốc',\n",
       " 'thuộc',\n",
       " 'thành',\n",
       " 'thác',\n",
       " 'thách',\n",
       " 'thái',\n",
       " 'tháng',\n",
       " 'thân',\n",
       " 'thêm',\n",
       " 'thì',\n",
       " 'thí',\n",
       " 'thích',\n",
       " 'thôn',\n",
       " 'thông',\n",
       " 'thú',\n",
       " 'thúc',\n",
       " 'thăm',\n",
       " 'thơ',\n",
       " 'thư',\n",
       " 'thương',\n",
       " 'thường',\n",
       " 'thưởng',\n",
       " 'thượng',\n",
       " 'thải',\n",
       " 'thảo',\n",
       " 'thấp',\n",
       " 'thất',\n",
       " 'thấy',\n",
       " 'thần',\n",
       " 'thầu',\n",
       " 'thầy',\n",
       " 'thẩm',\n",
       " 'thậm',\n",
       " 'thập',\n",
       " 'thật',\n",
       " 'thắng',\n",
       " 'thẳng',\n",
       " 'thẻ',\n",
       " 'thế',\n",
       " 'thể',\n",
       " 'thị',\n",
       " 'thịt',\n",
       " 'thỏa',\n",
       " 'thống',\n",
       " 'thổ',\n",
       " 'thời',\n",
       " 'thụ',\n",
       " 'thụy',\n",
       " 'thủ',\n",
       " 'thủy',\n",
       " 'thứ',\n",
       " 'thức',\n",
       " 'thừa',\n",
       " 'thử',\n",
       " 'thực',\n",
       " 'tim',\n",
       " 'tin',\n",
       " 'tinh',\n",
       " 'tiêm',\n",
       " 'tiên',\n",
       " 'tiêu',\n",
       " 'tiến',\n",
       " 'tiếng',\n",
       " 'tiếp',\n",
       " 'tiết',\n",
       " 'tiềm',\n",
       " 'tiền',\n",
       " 'tiểu',\n",
       " 'tiện',\n",
       " 'to',\n",
       " 'toàn',\n",
       " 'toán',\n",
       " 'tp',\n",
       " 'tphcm',\n",
       " 'tra',\n",
       " 'trai',\n",
       " 'trang',\n",
       " 'tranh',\n",
       " 'trao',\n",
       " 'tri',\n",
       " 'triều',\n",
       " 'triển',\n",
       " 'triệu',\n",
       " 'trong',\n",
       " 'trung',\n",
       " 'truy',\n",
       " 'truyền',\n",
       " 'trà',\n",
       " 'trách',\n",
       " 'trái',\n",
       " 'tránh',\n",
       " 'trên',\n",
       " 'trì',\n",
       " 'trình',\n",
       " 'trí',\n",
       " 'trích',\n",
       " 'trò',\n",
       " 'trú',\n",
       " 'trúc',\n",
       " 'trăm',\n",
       " 'trương',\n",
       " 'trước',\n",
       " 'trường',\n",
       " 'trưởng',\n",
       " 'trạm',\n",
       " 'trạng',\n",
       " 'trả',\n",
       " 'trải',\n",
       " 'trấn',\n",
       " 'trần',\n",
       " 'trận',\n",
       " 'trắng',\n",
       " 'trẻ',\n",
       " 'trị',\n",
       " 'trịnh',\n",
       " 'trọng',\n",
       " 'trồng',\n",
       " 'trời',\n",
       " 'trở',\n",
       " 'trợ',\n",
       " 'trụ',\n",
       " 'trừ',\n",
       " 'trừng',\n",
       " 'trữ',\n",
       " 'trực',\n",
       " 'ts',\n",
       " 'tuy',\n",
       " 'tuyên',\n",
       " 'tuyến',\n",
       " 'tuyển',\n",
       " 'tuyệt',\n",
       " 'tuấn',\n",
       " 'tuần',\n",
       " 'tuổi',\n",
       " 'ty',\n",
       " 'tài',\n",
       " 'tàu',\n",
       " 'tác',\n",
       " 'tái',\n",
       " 'tâm',\n",
       " 'tân',\n",
       " 'tây',\n",
       " 'tên',\n",
       " 'tìm',\n",
       " 'tình',\n",
       " 'tích',\n",
       " 'tín',\n",
       " 'tính',\n",
       " 'tòa',\n",
       " 'tô',\n",
       " 'tôi',\n",
       " 'tôn',\n",
       " 'tù',\n",
       " 'tùng',\n",
       " 'tùy',\n",
       " 'túy',\n",
       " 'tăng',\n",
       " 'tư',\n",
       " 'tương',\n",
       " 'tướng',\n",
       " 'tưởng',\n",
       " 'tượng',\n",
       " 'tại',\n",
       " 'tạm',\n",
       " 'tạo',\n",
       " 'tạp',\n",
       " 'tải',\n",
       " 'tảng',\n",
       " 'tấn',\n",
       " 'tất',\n",
       " 'tầm',\n",
       " 'tầng',\n",
       " 'tận',\n",
       " 'tập',\n",
       " 'tắc',\n",
       " 'tặng',\n",
       " 'tế',\n",
       " 'tệ',\n",
       " 'tỉ',\n",
       " 'tỉnh',\n",
       " 'tịch',\n",
       " 'tỏ',\n",
       " 'tỏa',\n",
       " 'tố',\n",
       " 'tốc',\n",
       " 'tối',\n",
       " 'tốt',\n",
       " 'tồn',\n",
       " 'tổ',\n",
       " 'tổn',\n",
       " 'tổng',\n",
       " 'tộc',\n",
       " 'tội',\n",
       " ...]"
      ]
     },
     "execution_count": 182,
     "metadata": {},
     "output_type": "execute_result"
    }
   ],
   "source": [
    "countv.get_feature_names()\n"
   ]
  },
  {
   "cell_type": "code",
   "execution_count": 183,
   "metadata": {},
   "outputs": [],
   "source": [
    "tokens_count = X\n"
   ]
  },
  {
   "cell_type": "code",
   "execution_count": 184,
   "metadata": {},
   "outputs": [],
   "source": [
    "counts = pd.DataFrame(tokens_count,\n",
    "                      columns=countv.get_feature_names_out())\n"
   ]
  },
  {
   "cell_type": "code",
   "execution_count": 185,
   "metadata": {},
   "outputs": [
    {
     "data": {
      "text/html": [
       "<div>\n",
       "<style scoped>\n",
       "    .dataframe tbody tr th:only-of-type {\n",
       "        vertical-align: middle;\n",
       "    }\n",
       "\n",
       "    .dataframe tbody tr th {\n",
       "        vertical-align: top;\n",
       "    }\n",
       "\n",
       "    .dataframe thead th {\n",
       "        text-align: right;\n",
       "    }\n",
       "</style>\n",
       "<table border=\"1\" class=\"dataframe\">\n",
       "  <thead>\n",
       "    <tr style=\"text-align: right;\">\n",
       "      <th></th>\n",
       "      <th>ai</th>\n",
       "      <th>an</th>\n",
       "      <th>anh</th>\n",
       "      <th>apple</th>\n",
       "      <th>arabia</th>\n",
       "      <th>australia</th>\n",
       "      <th>ba</th>\n",
       "      <th>ban</th>\n",
       "      <th>bang</th>\n",
       "      <th>bao</th>\n",
       "      <th>...</th>\n",
       "      <th>ương</th>\n",
       "      <th>ước</th>\n",
       "      <th>ảnh</th>\n",
       "      <th>ấn</th>\n",
       "      <th>ấy</th>\n",
       "      <th>ẩn</th>\n",
       "      <th>ổn</th>\n",
       "      <th>ủng</th>\n",
       "      <th>ủy</th>\n",
       "      <th>ứng</th>\n",
       "    </tr>\n",
       "  </thead>\n",
       "  <tbody>\n",
       "    <tr>\n",
       "      <th>0</th>\n",
       "      <td>0</td>\n",
       "      <td>0</td>\n",
       "      <td>0</td>\n",
       "      <td>0</td>\n",
       "      <td>0</td>\n",
       "      <td>1</td>\n",
       "      <td>2</td>\n",
       "      <td>0</td>\n",
       "      <td>0</td>\n",
       "      <td>0</td>\n",
       "      <td>...</td>\n",
       "      <td>0</td>\n",
       "      <td>0</td>\n",
       "      <td>2</td>\n",
       "      <td>0</td>\n",
       "      <td>0</td>\n",
       "      <td>0</td>\n",
       "      <td>0</td>\n",
       "      <td>0</td>\n",
       "      <td>0</td>\n",
       "      <td>0</td>\n",
       "    </tr>\n",
       "    <tr>\n",
       "      <th>1</th>\n",
       "      <td>0</td>\n",
       "      <td>0</td>\n",
       "      <td>1</td>\n",
       "      <td>0</td>\n",
       "      <td>0</td>\n",
       "      <td>0</td>\n",
       "      <td>0</td>\n",
       "      <td>0</td>\n",
       "      <td>0</td>\n",
       "      <td>0</td>\n",
       "      <td>...</td>\n",
       "      <td>0</td>\n",
       "      <td>0</td>\n",
       "      <td>0</td>\n",
       "      <td>0</td>\n",
       "      <td>0</td>\n",
       "      <td>0</td>\n",
       "      <td>0</td>\n",
       "      <td>0</td>\n",
       "      <td>0</td>\n",
       "      <td>0</td>\n",
       "    </tr>\n",
       "    <tr>\n",
       "      <th>2</th>\n",
       "      <td>0</td>\n",
       "      <td>0</td>\n",
       "      <td>0</td>\n",
       "      <td>0</td>\n",
       "      <td>0</td>\n",
       "      <td>0</td>\n",
       "      <td>0</td>\n",
       "      <td>1</td>\n",
       "      <td>0</td>\n",
       "      <td>1</td>\n",
       "      <td>...</td>\n",
       "      <td>0</td>\n",
       "      <td>0</td>\n",
       "      <td>0</td>\n",
       "      <td>0</td>\n",
       "      <td>0</td>\n",
       "      <td>0</td>\n",
       "      <td>0</td>\n",
       "      <td>0</td>\n",
       "      <td>13</td>\n",
       "      <td>0</td>\n",
       "    </tr>\n",
       "    <tr>\n",
       "      <th>3</th>\n",
       "      <td>0</td>\n",
       "      <td>3</td>\n",
       "      <td>1</td>\n",
       "      <td>0</td>\n",
       "      <td>0</td>\n",
       "      <td>0</td>\n",
       "      <td>0</td>\n",
       "      <td>0</td>\n",
       "      <td>0</td>\n",
       "      <td>0</td>\n",
       "      <td>...</td>\n",
       "      <td>0</td>\n",
       "      <td>0</td>\n",
       "      <td>0</td>\n",
       "      <td>0</td>\n",
       "      <td>0</td>\n",
       "      <td>0</td>\n",
       "      <td>0</td>\n",
       "      <td>0</td>\n",
       "      <td>0</td>\n",
       "      <td>0</td>\n",
       "    </tr>\n",
       "    <tr>\n",
       "      <th>4</th>\n",
       "      <td>0</td>\n",
       "      <td>1</td>\n",
       "      <td>8</td>\n",
       "      <td>0</td>\n",
       "      <td>0</td>\n",
       "      <td>0</td>\n",
       "      <td>0</td>\n",
       "      <td>0</td>\n",
       "      <td>0</td>\n",
       "      <td>1</td>\n",
       "      <td>...</td>\n",
       "      <td>0</td>\n",
       "      <td>0</td>\n",
       "      <td>1</td>\n",
       "      <td>0</td>\n",
       "      <td>0</td>\n",
       "      <td>0</td>\n",
       "      <td>0</td>\n",
       "      <td>5</td>\n",
       "      <td>0</td>\n",
       "      <td>1</td>\n",
       "    </tr>\n",
       "    <tr>\n",
       "      <th>...</th>\n",
       "      <td>...</td>\n",
       "      <td>...</td>\n",
       "      <td>...</td>\n",
       "      <td>...</td>\n",
       "      <td>...</td>\n",
       "      <td>...</td>\n",
       "      <td>...</td>\n",
       "      <td>...</td>\n",
       "      <td>...</td>\n",
       "      <td>...</td>\n",
       "      <td>...</td>\n",
       "      <td>...</td>\n",
       "      <td>...</td>\n",
       "      <td>...</td>\n",
       "      <td>...</td>\n",
       "      <td>...</td>\n",
       "      <td>...</td>\n",
       "      <td>...</td>\n",
       "      <td>...</td>\n",
       "      <td>...</td>\n",
       "      <td>...</td>\n",
       "    </tr>\n",
       "    <tr>\n",
       "      <th>19405</th>\n",
       "      <td>0</td>\n",
       "      <td>9</td>\n",
       "      <td>0</td>\n",
       "      <td>0</td>\n",
       "      <td>0</td>\n",
       "      <td>0</td>\n",
       "      <td>0</td>\n",
       "      <td>0</td>\n",
       "      <td>0</td>\n",
       "      <td>0</td>\n",
       "      <td>...</td>\n",
       "      <td>0</td>\n",
       "      <td>0</td>\n",
       "      <td>0</td>\n",
       "      <td>0</td>\n",
       "      <td>0</td>\n",
       "      <td>0</td>\n",
       "      <td>0</td>\n",
       "      <td>0</td>\n",
       "      <td>0</td>\n",
       "      <td>0</td>\n",
       "    </tr>\n",
       "    <tr>\n",
       "      <th>19406</th>\n",
       "      <td>0</td>\n",
       "      <td>2</td>\n",
       "      <td>0</td>\n",
       "      <td>0</td>\n",
       "      <td>0</td>\n",
       "      <td>0</td>\n",
       "      <td>0</td>\n",
       "      <td>1</td>\n",
       "      <td>0</td>\n",
       "      <td>0</td>\n",
       "      <td>...</td>\n",
       "      <td>0</td>\n",
       "      <td>0</td>\n",
       "      <td>0</td>\n",
       "      <td>0</td>\n",
       "      <td>0</td>\n",
       "      <td>0</td>\n",
       "      <td>0</td>\n",
       "      <td>0</td>\n",
       "      <td>0</td>\n",
       "      <td>0</td>\n",
       "    </tr>\n",
       "    <tr>\n",
       "      <th>19407</th>\n",
       "      <td>0</td>\n",
       "      <td>0</td>\n",
       "      <td>7</td>\n",
       "      <td>0</td>\n",
       "      <td>0</td>\n",
       "      <td>0</td>\n",
       "      <td>0</td>\n",
       "      <td>0</td>\n",
       "      <td>0</td>\n",
       "      <td>0</td>\n",
       "      <td>...</td>\n",
       "      <td>0</td>\n",
       "      <td>0</td>\n",
       "      <td>5</td>\n",
       "      <td>1</td>\n",
       "      <td>0</td>\n",
       "      <td>1</td>\n",
       "      <td>0</td>\n",
       "      <td>0</td>\n",
       "      <td>0</td>\n",
       "      <td>2</td>\n",
       "    </tr>\n",
       "    <tr>\n",
       "      <th>19408</th>\n",
       "      <td>0</td>\n",
       "      <td>0</td>\n",
       "      <td>0</td>\n",
       "      <td>0</td>\n",
       "      <td>0</td>\n",
       "      <td>0</td>\n",
       "      <td>0</td>\n",
       "      <td>3</td>\n",
       "      <td>0</td>\n",
       "      <td>0</td>\n",
       "      <td>...</td>\n",
       "      <td>0</td>\n",
       "      <td>0</td>\n",
       "      <td>1</td>\n",
       "      <td>0</td>\n",
       "      <td>0</td>\n",
       "      <td>0</td>\n",
       "      <td>0</td>\n",
       "      <td>0</td>\n",
       "      <td>2</td>\n",
       "      <td>2</td>\n",
       "    </tr>\n",
       "    <tr>\n",
       "      <th>19409</th>\n",
       "      <td>0</td>\n",
       "      <td>0</td>\n",
       "      <td>0</td>\n",
       "      <td>0</td>\n",
       "      <td>0</td>\n",
       "      <td>0</td>\n",
       "      <td>0</td>\n",
       "      <td>0</td>\n",
       "      <td>0</td>\n",
       "      <td>0</td>\n",
       "      <td>...</td>\n",
       "      <td>0</td>\n",
       "      <td>0</td>\n",
       "      <td>0</td>\n",
       "      <td>0</td>\n",
       "      <td>0</td>\n",
       "      <td>0</td>\n",
       "      <td>0</td>\n",
       "      <td>0</td>\n",
       "      <td>0</td>\n",
       "      <td>0</td>\n",
       "    </tr>\n",
       "  </tbody>\n",
       "</table>\n",
       "<p>19410 rows × 1200 columns</p>\n",
       "</div>"
      ],
      "text/plain": [
       "       ai  an  anh  apple  arabia  australia  ba  ban  bang  bao  ...  ương  \\\n",
       "0       0   0    0      0       0          1   2    0     0    0  ...     0   \n",
       "1       0   0    1      0       0          0   0    0     0    0  ...     0   \n",
       "2       0   0    0      0       0          0   0    1     0    1  ...     0   \n",
       "3       0   3    1      0       0          0   0    0     0    0  ...     0   \n",
       "4       0   1    8      0       0          0   0    0     0    1  ...     0   \n",
       "...    ..  ..  ...    ...     ...        ...  ..  ...   ...  ...  ...   ...   \n",
       "19405   0   9    0      0       0          0   0    0     0    0  ...     0   \n",
       "19406   0   2    0      0       0          0   0    1     0    0  ...     0   \n",
       "19407   0   0    7      0       0          0   0    0     0    0  ...     0   \n",
       "19408   0   0    0      0       0          0   0    3     0    0  ...     0   \n",
       "19409   0   0    0      0       0          0   0    0     0    0  ...     0   \n",
       "\n",
       "       ước  ảnh  ấn  ấy  ẩn  ổn  ủng  ủy  ứng  \n",
       "0        0    2   0   0   0   0    0   0    0  \n",
       "1        0    0   0   0   0   0    0   0    0  \n",
       "2        0    0   0   0   0   0    0  13    0  \n",
       "3        0    0   0   0   0   0    0   0    0  \n",
       "4        0    1   0   0   0   0    5   0    1  \n",
       "...    ...  ...  ..  ..  ..  ..  ...  ..  ...  \n",
       "19405    0    0   0   0   0   0    0   0    0  \n",
       "19406    0    0   0   0   0   0    0   0    0  \n",
       "19407    0    5   1   0   1   0    0   0    2  \n",
       "19408    0    1   0   0   0   0    0   2    2  \n",
       "19409    0    0   0   0   0   0    0   0    0  \n",
       "\n",
       "[19410 rows x 1200 columns]"
      ]
     },
     "execution_count": 185,
     "metadata": {},
     "output_type": "execute_result"
    }
   ],
   "source": [
    "counts\n"
   ]
  },
  {
   "cell_type": "markdown",
   "metadata": {},
   "source": [
    "## Split dataset into training and testing sets"
   ]
  },
  {
   "cell_type": "code",
   "execution_count": 186,
   "metadata": {},
   "outputs": [],
   "source": [
    "\n",
    "X_train, X_test, y_train, y_test = train_test_split(\n",
    "    X, y, test_size=0.20, random_state=0)\n"
   ]
  },
  {
   "cell_type": "markdown",
   "metadata": {},
   "source": [
    "## LOGISTIC REGRESSION"
   ]
  },
  {
   "cell_type": "code",
   "execution_count": 187,
   "metadata": {},
   "outputs": [
    {
     "name": "stderr",
     "output_type": "stream",
     "text": [
      "C:\\Users\\Admin\\AppData\\Roaming\\Python\\Python39\\site-packages\\sklearn\\linear_model\\_logistic.py:814: ConvergenceWarning: lbfgs failed to converge (status=1):\n",
      "STOP: TOTAL NO. of ITERATIONS REACHED LIMIT.\n",
      "\n",
      "Increase the number of iterations (max_iter) or scale the data as shown in:\n",
      "    https://scikit-learn.org/stable/modules/preprocessing.html\n",
      "Please also refer to the documentation for alternative solver options:\n",
      "    https://scikit-learn.org/stable/modules/linear_model.html#logistic-regression\n",
      "  n_iter_i = _check_optimize_result(\n"
     ]
    },
    {
     "data": {
      "text/plain": [
       "LogisticRegression(random_state=0)"
      ]
     },
     "execution_count": 187,
     "metadata": {},
     "output_type": "execute_result"
    }
   ],
   "source": [
    "\n",
    "lr_classifier = LogisticRegression(random_state=0)\n",
    "lr_classifier.fit(X_train, y_train)\n"
   ]
  },
  {
   "cell_type": "code",
   "execution_count": 188,
   "metadata": {},
   "outputs": [
    {
     "name": "stdout",
     "output_type": "stream",
     "text": [
      "(3882, 1200)\n"
     ]
    }
   ],
   "source": [
    "print(X_test.shape)\n"
   ]
  },
  {
   "cell_type": "code",
   "execution_count": 189,
   "metadata": {},
   "outputs": [
    {
     "name": "stdout",
     "output_type": "stream",
     "text": [
      "[[ 0  0  1 ...  0  0  0]\n",
      " [ 0  0  0 ...  0  0  0]\n",
      " [ 0  0  2 ...  0  0  1]\n",
      " ...\n",
      " [ 0  2  0 ...  0  0  0]\n",
      " [ 0 19  0 ...  0  0  0]\n",
      " [ 0  0  0 ...  0  0  0]]\n"
     ]
    }
   ],
   "source": [
    "print(X_test)\n"
   ]
  },
  {
   "cell_type": "markdown",
   "metadata": {},
   "source": [
    "### Test and return Confusion Matrix"
   ]
  },
  {
   "cell_type": "code",
   "execution_count": 190,
   "metadata": {},
   "outputs": [
    {
     "name": "stdout",
     "output_type": "stream",
     "text": [
      "[[1646  301]\n",
      " [ 280 1655]]\n"
     ]
    }
   ],
   "source": [
    "\n",
    "y_pred = lr_classifier.predict(X_test)\n",
    "cm = confusion_matrix(y_test, y_pred)\n",
    "print(cm)\n"
   ]
  },
  {
   "cell_type": "markdown",
   "metadata": {},
   "source": [
    "### Print Report"
   ]
  },
  {
   "cell_type": "code",
   "execution_count": 191,
   "metadata": {},
   "outputs": [
    {
     "name": "stdout",
     "output_type": "stream",
     "text": [
      "              precision    recall  f1-score   support\n",
      "\n",
      "           0       0.85      0.85      0.85      1947\n",
      "           1       0.85      0.86      0.85      1935\n",
      "\n",
      "    accuracy                           0.85      3882\n",
      "   macro avg       0.85      0.85      0.85      3882\n",
      "weighted avg       0.85      0.85      0.85      3882\n",
      "\n"
     ]
    }
   ],
   "source": [
    "print(classification_report(y_test, y_pred))\n"
   ]
  },
  {
   "cell_type": "code",
   "execution_count": 192,
   "metadata": {},
   "outputs": [
    {
     "name": "stdout",
     "output_type": "stream",
     "text": [
      "Accuracy: 85.03\n"
     ]
    }
   ],
   "source": [
    "\n",
    "print(\"Accuracy: {}\".format(round(accuracy_score(y_test, y_pred)*100, 2)))\n"
   ]
  },
  {
   "cell_type": "code",
   "execution_count": 193,
   "metadata": {},
   "outputs": [
    {
     "data": {
      "image/png": "[encoded data removed]",
      "text/plain": [
       "<Figure size 432x288 with 2 Axes>"
      ]
     },
     "metadata": {
      "needs_background": "light"
     },
     "output_type": "display_data"
    }
   ],
   "source": [
    "new_cm = pd.DataFrame(cm, index=[\n",
    "                      'Thời sự', 'Giải trí - Showbiz'], columns=['Thời sự', 'Giải trí - Showbiz'])\n",
    "sns.heatmap(new_cm, cmap='Blues', annot=True, fmt='', xticklabels=[\n",
    "            'Thời sự', 'Giải trí - Showbiz'], yticklabels=['Thời sự', 'Giải trí - Showbiz'])\n",
    "plt.xlabel(\"Actual\")\n",
    "plt.ylabel(\"Predicted\")\n",
    "plt.title('Confusion matrix On Test Data')\n",
    "plt.show()\n"
   ]
  },
  {
   "cell_type": "markdown",
   "metadata": {},
   "source": [
    "## GAUSSIAN NAIVE BAYES"
   ]
  },
  {
   "cell_type": "code",
   "execution_count": 194,
   "metadata": {},
   "outputs": [
    {
     "data": {
      "text/plain": [
       "GaussianNB()"
      ]
     },
     "execution_count": 194,
     "metadata": {},
     "output_type": "execute_result"
    }
   ],
   "source": [
    "\n",
    "\n",
    "gnb_classifier = GaussianNB()\n",
    "gnb_classifier.fit(X_train, y_train)\n"
   ]
  },
  {
   "cell_type": "markdown",
   "metadata": {},
   "source": [
    "### Confusion matrix"
   ]
  },
  {
   "cell_type": "code",
   "execution_count": 195,
   "metadata": {},
   "outputs": [
    {
     "name": "stdout",
     "output_type": "stream",
     "text": [
      "[[1532  415]\n",
      " [ 263 1672]]\n"
     ]
    }
   ],
   "source": [
    "y_pred = gnb_classifier.predict(X_test)\n",
    "cm = confusion_matrix(y_test, y_pred)\n",
    "print(cm)\n"
   ]
  },
  {
   "cell_type": "markdown",
   "metadata": {},
   "source": [
    "### Report"
   ]
  },
  {
   "cell_type": "code",
   "execution_count": 196,
   "metadata": {},
   "outputs": [
    {
     "name": "stdout",
     "output_type": "stream",
     "text": [
      "              precision    recall  f1-score   support\n",
      "\n",
      "           0       0.85      0.79      0.82      1947\n",
      "           1       0.80      0.86      0.83      1935\n",
      "\n",
      "    accuracy                           0.83      3882\n",
      "   macro avg       0.83      0.83      0.83      3882\n",
      "weighted avg       0.83      0.83      0.83      3882\n",
      "\n"
     ]
    }
   ],
   "source": [
    "print(classification_report(y_test, y_pred))\n"
   ]
  },
  {
   "cell_type": "code",
   "execution_count": 197,
   "metadata": {},
   "outputs": [
    {
     "name": "stdout",
     "output_type": "stream",
     "text": [
      "Accuracy: 82.53\n"
     ]
    }
   ],
   "source": [
    "print(\"Accuracy: {}\".format(round(accuracy_score(y_test, y_pred)*100, 2)))\n"
   ]
  },
  {
   "cell_type": "code",
   "execution_count": 198,
   "metadata": {},
   "outputs": [
    {
     "data": {
      "image/png": "[encoded data removed]",
      "text/plain": [
       "<Figure size 432x288 with 2 Axes>"
      ]
     },
     "metadata": {
      "needs_background": "light"
     },
     "output_type": "display_data"
    }
   ],
   "source": [
    "new_cm = pd.DataFrame(cm, index=[\n",
    "                      'Thời sự', 'Giải trí - Showbiz'], columns=['Thời sự', 'Giải trí - Showbiz'])\n",
    "sns.heatmap(new_cm, cmap='Blues', annot=True, fmt='', xticklabels=[\n",
    "            'Thời sự', 'Giải trí - Showbiz'], yticklabels=['Thời sự', 'Giải trí - Showbiz'])\n",
    "plt.xlabel(\"Actual\")\n",
    "plt.ylabel(\"Predicted\")\n",
    "plt.title('Confusion matrix On Test Data')\n",
    "plt.show()\n"
   ]
  },
  {
   "cell_type": "markdown",
   "metadata": {},
   "source": [
    "## BERNOULLI NAIVE BAYES"
   ]
  },
  {
   "cell_type": "code",
   "execution_count": 199,
   "metadata": {},
   "outputs": [
    {
     "data": {
      "text/plain": [
       "BernoulliNB()"
      ]
     },
     "execution_count": 199,
     "metadata": {},
     "output_type": "execute_result"
    }
   ],
   "source": [
    "bnb_classifier = BernoulliNB()\n",
    "bnb_classifier.fit(X_train, y_train)\n"
   ]
  },
  {
   "cell_type": "markdown",
   "metadata": {},
   "source": [
    "### Confusion Matrix"
   ]
  },
  {
   "cell_type": "code",
   "execution_count": 200,
   "metadata": {},
   "outputs": [
    {
     "name": "stdout",
     "output_type": "stream",
     "text": [
      "[[1537  410]\n",
      " [ 279 1656]]\n"
     ]
    }
   ],
   "source": [
    "y_pred = bnb_classifier.predict(X_test)\n",
    "cm = confusion_matrix(y_test, y_pred)\n",
    "print(cm)\n"
   ]
  },
  {
   "cell_type": "markdown",
   "metadata": {},
   "source": [
    "### Report"
   ]
  },
  {
   "cell_type": "code",
   "execution_count": 201,
   "metadata": {},
   "outputs": [
    {
     "name": "stdout",
     "output_type": "stream",
     "text": [
      "              precision    recall  f1-score   support\n",
      "\n",
      "           0       0.85      0.79      0.82      1947\n",
      "           1       0.80      0.86      0.83      1935\n",
      "\n",
      "    accuracy                           0.82      3882\n",
      "   macro avg       0.82      0.82      0.82      3882\n",
      "weighted avg       0.82      0.82      0.82      3882\n",
      "\n",
      "Accuracy: 82.25\n"
     ]
    }
   ],
   "source": [
    "print(classification_report(y_test, y_pred))\n",
    "print(\"Accuracy: {}\".format(round(accuracy_score(y_test, y_pred)*100, 2)))\n"
   ]
  },
  {
   "cell_type": "code",
   "execution_count": 202,
   "metadata": {},
   "outputs": [
    {
     "data": {
      "image/png": "[encoded data removed]",
      "text/plain": [
       "<Figure size 432x288 with 2 Axes>"
      ]
     },
     "metadata": {
      "needs_background": "light"
     },
     "output_type": "display_data"
    }
   ],
   "source": [
    "new_cm = pd.DataFrame(cm, index=[\n",
    "                      'Thời sự', 'Giải trí - Showbiz'], columns=['Thời sự', 'Giải trí - Showbiz'])\n",
    "sns.heatmap(new_cm, cmap='Blues', annot=True, fmt='', xticklabels=[\n",
    "            'Thời sự', 'Giải trí - Showbiz'], yticklabels=['Thời sự', 'Giải trí - Showbiz'])\n",
    "plt.xlabel(\"Actual\")\n",
    "plt.ylabel(\"Predicted\")\n",
    "plt.title('Confusion matrix On Test Data')\n",
    "plt.show()\n"
   ]
  },
  {
   "cell_type": "markdown",
   "metadata": {},
   "source": [
    "## SUPPORT VECTOR MACHINES"
   ]
  },
  {
   "cell_type": "code",
   "execution_count": 203,
   "metadata": {},
   "outputs": [
    {
     "name": "stderr",
     "output_type": "stream",
     "text": [
      "C:\\Users\\Admin\\AppData\\Roaming\\Python\\Python39\\site-packages\\sklearn\\svm\\_base.py:284: ConvergenceWarning: Solver terminated early (max_iter=200).  Consider pre-processing your data with StandardScaler or MinMaxScaler.\n",
      "  warnings.warn(\n"
     ]
    },
    {
     "data": {
      "text/plain": [
       "NuSVC(max_iter=200)"
      ]
     },
     "execution_count": 203,
     "metadata": {},
     "output_type": "execute_result"
    }
   ],
   "source": [
    "svm_classifier = NuSVC(max_iter=200)\n",
    "svm_classifier.fit(X_train, y_train)\n"
   ]
  },
  {
   "cell_type": "markdown",
   "metadata": {},
   "source": [
    "### Confusion Matrix"
   ]
  },
  {
   "cell_type": "code",
   "execution_count": 204,
   "metadata": {},
   "outputs": [
    {
     "name": "stdout",
     "output_type": "stream",
     "text": [
      "[[1343  604]\n",
      " [ 178 1757]]\n"
     ]
    }
   ],
   "source": [
    "y_pred = svm_classifier.predict(X_test)\n",
    "cm = confusion_matrix(y_test, y_pred)\n",
    "print(cm)\n"
   ]
  },
  {
   "cell_type": "markdown",
   "metadata": {},
   "source": [
    "### Report"
   ]
  },
  {
   "cell_type": "code",
   "execution_count": 205,
   "metadata": {},
   "outputs": [
    {
     "name": "stdout",
     "output_type": "stream",
     "text": [
      "              precision    recall  f1-score   support\n",
      "\n",
      "           0       0.88      0.69      0.77      1947\n",
      "           1       0.74      0.91      0.82      1935\n",
      "\n",
      "    accuracy                           0.80      3882\n",
      "   macro avg       0.81      0.80      0.80      3882\n",
      "weighted avg       0.81      0.80      0.80      3882\n",
      "\n"
     ]
    }
   ],
   "source": [
    "print(classification_report(y_test, y_pred))\n"
   ]
  },
  {
   "cell_type": "code",
   "execution_count": 206,
   "metadata": {},
   "outputs": [
    {
     "name": "stdout",
     "output_type": "stream",
     "text": [
      "Accuracy: 79.86\n"
     ]
    }
   ],
   "source": [
    "print(\"Accuracy: {}\".format(round(accuracy_score(y_test, y_pred)*100, 2)))\n"
   ]
  },
  {
   "cell_type": "code",
   "execution_count": 207,
   "metadata": {},
   "outputs": [
    {
     "data": {
      "image/png": "[encoded data removed]",
      "text/plain": [
       "<Figure size 432x288 with 2 Axes>"
      ]
     },
     "metadata": {
      "needs_background": "light"
     },
     "output_type": "display_data"
    }
   ],
   "source": [
    "new_cm = pd.DataFrame(cm, index=[\n",
    "                      'Thời sự', 'Giải trí - Showbiz'], columns=['Thời sự', 'Giải trí - Showbiz'])\n",
    "sns.heatmap(new_cm, cmap='Blues', annot=True, fmt='', xticklabels=[\n",
    "            'Thời sự', 'Giải trí - Showbiz'], yticklabels=['Thời sự', 'Giải trí - Showbiz'])\n",
    "plt.xlabel(\"Actual\")\n",
    "plt.ylabel(\"Predicted\")\n",
    "plt.title('Confusion matrix On Test Data')\n",
    "plt.show()\n"
   ]
  },
  {
   "cell_type": "markdown",
   "metadata": {},
   "source": [
    "TESTING ANY POST HERE:"
   ]
  },
  {
   "cell_type": "code",
   "execution_count": 220,
   "metadata": {},
   "outputs": [],
   "source": [
    "text = input()\n",
    "text = standardize_text(text)\n",
    "\n",
    "test = []\n",
    "test.append(text)"
   ]
  },
  {
   "cell_type": "code",
   "execution_count": 221,
   "metadata": {},
   "outputs": [],
   "source": [
    "test = countv.transform(test).toarray()"
   ]
  },
  {
   "cell_type": "markdown",
   "metadata": {},
   "source": [
    "You may change the model below to gnb_classifier (Gaussian Naive Bayes), bnb_classifier (Bernoulli Naive Bayes) or svm_classifier (SVM)"
   ]
  },
  {
   "cell_type": "code",
   "execution_count": 222,
   "metadata": {},
   "outputs": [
    {
     "data": {
      "text/plain": [
       "1"
      ]
     },
     "execution_count": 222,
     "metadata": {},
     "output_type": "execute_result"
    }
   ],
   "source": [
    "res = lr_classifier.predict(test)\n",
    "res[0]"
   ]
  }
 ],
 "metadata": {
  "kernelspec": {
   "display_name": "Python 3.9.9 64-bit",
   "language": "python",
   "name": "python3"
  },
  "language_info": {
   "codemirror_mode": {
    "name": "ipython",
    "version": 3
   },
   "file_extension": ".py",
   "mimetype": "text/x-python",
   "name": "python",
   "nbconvert_exporter": "python",
   "pygments_lexer": "ipython3",
   "version": "3.9.9"
  },
  "orig_nbformat": 4,
  "vscode": {
   "interpreter": {
    "hash": "c347c8f9a7ef94e4c9e03b4513be7835ed18f45b99a2a817fb579f408b867b16"
   }
  }
 },
 "nbformat": 4,
 "nbformat_minor": 2
}
