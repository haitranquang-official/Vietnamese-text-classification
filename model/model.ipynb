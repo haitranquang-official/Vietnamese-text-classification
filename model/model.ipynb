{
 "cells": [
  {
   "cell_type": "code",
   "execution_count": 26,
   "metadata": {},
   "outputs": [],
   "source": [
    "import pandas as pd\n",
    "import numpy as np\n",
    "import json\n",
    "from sklearn.utils import shuffle"
   ]
  },
  {
   "cell_type": "code",
   "execution_count": 12,
   "metadata": {},
   "outputs": [],
   "source": [
    "file = open(\"F:\\Code\\HUST\\Vietnamese-text-classification\\content.json\", encoding = 'utf8')"
   ]
  },
  {
   "cell_type": "code",
   "execution_count": 13,
   "metadata": {},
   "outputs": [],
   "source": [
    "data = json.load(file)"
   ]
  },
  {
   "cell_type": "code",
   "execution_count": 15,
   "metadata": {},
   "outputs": [],
   "source": [
    "df = pd.DataFrame(data)"
   ]
  },
  {
   "cell_type": "code",
   "execution_count": 16,
   "metadata": {},
   "outputs": [
    {
     "data": {
      "text/html": [
       "<div>\n",
       "<style scoped>\n",
       "    .dataframe tbody tr th:only-of-type {\n",
       "        vertical-align: middle;\n",
       "    }\n",
       "\n",
       "    .dataframe tbody tr th {\n",
       "        vertical-align: top;\n",
       "    }\n",
       "\n",
       "    .dataframe thead th {\n",
       "        text-align: right;\n",
       "    }\n",
       "</style>\n",
       "<table border=\"1\" class=\"dataframe\">\n",
       "  <thead>\n",
       "    <tr style=\"text-align: right;\">\n",
       "      <th></th>\n",
       "      <th>id</th>\n",
       "      <th>author</th>\n",
       "      <th>content</th>\n",
       "      <th>crawled_at</th>\n",
       "      <th>picture_count</th>\n",
       "      <th>processed</th>\n",
       "      <th>source</th>\n",
       "      <th>title</th>\n",
       "      <th>topic</th>\n",
       "      <th>url</th>\n",
       "      <th>category</th>\n",
       "    </tr>\n",
       "  </thead>\n",
       "  <tbody>\n",
       "    <tr>\n",
       "      <th>0</th>\n",
       "      <td>2</td>\n",
       "      <td>Lâm Thỏa</td>\n",
       "      <td>*Việt Nam - Malaysia: 20h thứ Tư 8/6, trên VnE...</td>\n",
       "      <td>2022-06-07 14:05:51.433712</td>\n",
       "      <td>2</td>\n",
       "      <td>0</td>\n",
       "      <td>None</td>\n",
       "      <td>HLV Malaysia dọa ngáng đường Việt Nam</td>\n",
       "      <td>Thể thao</td>\n",
       "      <td>https://vnexpress.net/hlv-malaysia-doa-ngang-d...</td>\n",
       "      <td>0</td>\n",
       "    </tr>\n",
       "    <tr>\n",
       "      <th>1</th>\n",
       "      <td>3</td>\n",
       "      <td>Thanh Tâm</td>\n",
       "      <td>\"Các khu dân cư của thành phố Severodonetsk đã...</td>\n",
       "      <td>2022-06-07 14:05:51.797545</td>\n",
       "      <td>2</td>\n",
       "      <td>0</td>\n",
       "      <td>None</td>\n",
       "      <td>Nga tuyên bố 'giải phóng' hoàn toàn khu dân cư...</td>\n",
       "      <td>Thế giới</td>\n",
       "      <td>https://vnexpress.net/nga-tuyen-bo-giai-phong-...</td>\n",
       "      <td>1</td>\n",
       "    </tr>\n",
       "    <tr>\n",
       "      <th>2</th>\n",
       "      <td>4</td>\n",
       "      <td>Thảo Mi</td>\n",
       "      <td>Ngày 7/6, phiên xử phúc thẩm ông Tất Thành Can...</td>\n",
       "      <td>2022-06-07 14:05:53.482540</td>\n",
       "      <td>2</td>\n",
       "      <td>0</td>\n",
       "      <td>None</td>\n",
       "      <td>Ông Tất Thành Cang được đề nghị giảm án</td>\n",
       "      <td>Pháp luật</td>\n",
       "      <td>https://vnexpress.net/ong-tat-thanh-cang-duoc-...</td>\n",
       "      <td>1</td>\n",
       "    </tr>\n",
       "    <tr>\n",
       "      <th>3</th>\n",
       "      <td>5</td>\n",
       "      <td>Quốc Thắng</td>\n",
       "      <td>Chiều 7/6, Khoa bị Công an quận Phú Nhuận phối...</td>\n",
       "      <td>2022-06-07 14:05:53.848085</td>\n",
       "      <td>2</td>\n",
       "      <td>0</td>\n",
       "      <td>None</td>\n",
       "      <td>Nghi can sát hại cha bị bắt</td>\n",
       "      <td>Pháp luật</td>\n",
       "      <td>https://vnexpress.net/nghi-can-sat-hai-cha-bi-...</td>\n",
       "      <td>1</td>\n",
       "    </tr>\n",
       "    <tr>\n",
       "      <th>4</th>\n",
       "      <td>6</td>\n",
       "      <td>Vũ Hoàng</td>\n",
       "      <td>Thủ tướng Anh Boris Johnson hôm 6/6 đã \"thoát ...</td>\n",
       "      <td>2022-06-07 14:05:54.226303</td>\n",
       "      <td>1</td>\n",
       "      <td>0</td>\n",
       "      <td>None</td>\n",
       "      <td>Sóng gió chờ đón Thủ tướng Anh hậu bỏ phiếu bấ...</td>\n",
       "      <td>Thế giới</td>\n",
       "      <td>https://vnexpress.net/thoat-hiem-bat-tin-nhiem...</td>\n",
       "      <td>1</td>\n",
       "    </tr>\n",
       "  </tbody>\n",
       "</table>\n",
       "</div>"
      ],
      "text/plain": [
       "   id      author                                            content  \\\n",
       "0   2    Lâm Thỏa  *Việt Nam - Malaysia: 20h thứ Tư 8/6, trên VnE...   \n",
       "1   3   Thanh Tâm  \"Các khu dân cư của thành phố Severodonetsk đã...   \n",
       "2   4     Thảo Mi  Ngày 7/6, phiên xử phúc thẩm ông Tất Thành Can...   \n",
       "3   5  Quốc Thắng  Chiều 7/6, Khoa bị Công an quận Phú Nhuận phối...   \n",
       "4   6    Vũ Hoàng  Thủ tướng Anh Boris Johnson hôm 6/6 đã \"thoát ...   \n",
       "\n",
       "                   crawled_at  picture_count  processed source  \\\n",
       "0  2022-06-07 14:05:51.433712              2          0   None   \n",
       "1  2022-06-07 14:05:51.797545              2          0   None   \n",
       "2  2022-06-07 14:05:53.482540              2          0   None   \n",
       "3  2022-06-07 14:05:53.848085              2          0   None   \n",
       "4  2022-06-07 14:05:54.226303              1          0   None   \n",
       "\n",
       "                                               title      topic  \\\n",
       "0              HLV Malaysia dọa ngáng đường Việt Nam   Thể thao   \n",
       "1  Nga tuyên bố 'giải phóng' hoàn toàn khu dân cư...   Thế giới   \n",
       "2            Ông Tất Thành Cang được đề nghị giảm án  Pháp luật   \n",
       "3                        Nghi can sát hại cha bị bắt  Pháp luật   \n",
       "4  Sóng gió chờ đón Thủ tướng Anh hậu bỏ phiếu bấ...   Thế giới   \n",
       "\n",
       "                                                 url  category  \n",
       "0  https://vnexpress.net/hlv-malaysia-doa-ngang-d...         0  \n",
       "1  https://vnexpress.net/nga-tuyen-bo-giai-phong-...         1  \n",
       "2  https://vnexpress.net/ong-tat-thanh-cang-duoc-...         1  \n",
       "3  https://vnexpress.net/nghi-can-sat-hai-cha-bi-...         1  \n",
       "4  https://vnexpress.net/thoat-hiem-bat-tin-nhiem...         1  "
      ]
     },
     "execution_count": 16,
     "metadata": {},
     "output_type": "execute_result"
    }
   ],
   "source": [
    "df.head()"
   ]
  },
  {
   "cell_type": "code",
   "execution_count": 27,
   "metadata": {},
   "outputs": [
    {
     "name": "stdout",
     "output_type": "stream",
     "text": [
      "(19411, 6)\n"
     ]
    }
   ],
   "source": [
    "print(df.shape)\n",
    "df = shuffle(df)"
   ]
  },
  {
   "cell_type": "code",
   "execution_count": 20,
   "metadata": {},
   "outputs": [],
   "source": [
    "columns = ['id', 'crawled_at', 'processed', 'source', 'topic']\n",
    "df = df.drop(columns=columns)"
   ]
  },
  {
   "cell_type": "code",
   "execution_count": 21,
   "metadata": {},
   "outputs": [
    {
     "name": "stdout",
     "output_type": "stream",
     "text": [
      "(19411, 6)\n"
     ]
    }
   ],
   "source": [
    "print(df.shape)"
   ]
  },
  {
   "cell_type": "code",
   "execution_count": 22,
   "metadata": {},
   "outputs": [
    {
     "name": "stdout",
     "output_type": "stream",
     "text": [
      "<class 'pandas.core.frame.DataFrame'>\n",
      "RangeIndex: 19411 entries, 0 to 19410\n",
      "Data columns (total 6 columns):\n",
      " #   Column         Non-Null Count  Dtype \n",
      "---  ------         --------------  ----- \n",
      " 0   author         19411 non-null  object\n",
      " 1   content        19411 non-null  object\n",
      " 2   picture_count  19411 non-null  int64 \n",
      " 3   title          19411 non-null  object\n",
      " 4   url            19411 non-null  object\n",
      " 5   category       19411 non-null  int64 \n",
      "dtypes: int64(2), object(4)\n",
      "memory usage: 910.0+ KB\n"
     ]
    }
   ],
   "source": [
    "df.info()"
   ]
  },
  {
   "cell_type": "code",
   "execution_count": 37,
   "metadata": {},
   "outputs": [],
   "source": [
    "content_array = np.array(df['content'])"
   ]
  },
  {
   "cell_type": "code",
   "execution_count": 38,
   "metadata": {},
   "outputs": [],
   "source": [
    "import re\n",
    "import nltk"
   ]
  },
  {
   "cell_type": "code",
   "execution_count": 39,
   "metadata": {},
   "outputs": [],
   "source": [
    "corpus = []\n",
    "\n",
    "for i in range(0, 19410):\n",
    "    newArr = re.sub('[^a-zA-Z]', ' ', content_array[i])\n",
    "    newArr.lower()\n",
    "    newArr = newArr.split()\n",
    "    newArr = ' '.join(newArr)\n",
    "    corpus.append(newArr)\n",
    "    "
   ]
  },
  {
   "cell_type": "code",
   "execution_count": null,
   "metadata": {},
   "outputs": [],
   "source": []
  }
 ],
 "metadata": {
  "kernelspec": {
   "display_name": "Python 3.9.9 64-bit",
   "language": "python",
   "name": "python3"
  },
  "language_info": {
   "codemirror_mode": {
    "name": "ipython",
    "version": 3
   },
   "file_extension": ".py",
   "mimetype": "text/x-python",
   "name": "python",
   "nbconvert_exporter": "python",
   "pygments_lexer": "ipython3",
   "version": "3.9.9"
  },
  "orig_nbformat": 4,
  "vscode": {
   "interpreter": {
    "hash": "c347c8f9a7ef94e4c9e03b4513be7835ed18f45b99a2a817fb579f408b867b16"
   }
  }
 },
 "nbformat": 4,
 "nbformat_minor": 2
}
